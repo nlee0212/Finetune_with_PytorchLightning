{
 "cells": [
  {
   "cell_type": "code",
   "execution_count": 1,
   "metadata": {},
   "outputs": [
    {
     "name": "stderr",
     "output_type": "stream",
     "text": [
      "Global seed set to 0\n"
     ]
    },
    {
     "name": "stdout",
     "output_type": "stream",
     "text": [
      "\n",
      "[ Config ]\n",
      "TIME : 2014-01-01 ~ 2015-12-31\n",
      "SYMBOL : ['AAPL', 'ABB', 'ABBV', 'AEP', 'AGFS', 'AMGN', 'AMZN', 'BA', 'BABA', 'BAC', 'BBL', 'BCH', 'BHP', 'BP', 'BRK-A', 'BSAC', 'BUD', 'C', 'CAT', 'CELG', 'CHL', 'CHTR', 'CMCSA', 'CODI', 'CSCO', 'CVX', 'D', 'DHR', 'DIS', 'DUK', 'EXC', 'FB', 'GD', 'GE', 'GOOG', 'HD', 'HON', 'HRG', 'HSBC', 'IEP', 'INTC', 'JNJ', 'JPM', 'KO', 'LMT', 'MA', 'MCD', 'MDT', 'MMM', 'MO', 'MRK', 'MSFT', 'NEE', 'NGG', 'NVS', 'ORCL', 'PCG', 'PCLN', 'PEP', 'PFE', 'PG', 'PICO', 'PM', 'PPL', 'PTR', 'RDS-B', 'REX', 'SLB', 'SNP', 'SNY', 'SO', 'SPLP', 'SRE', 'T', 'TM', 'TOT', 'TSM', 'UL', 'UN', 'UNH', 'UPS', 'UTX', 'V', 'VZ', 'WFC', 'WMT', 'XOM']\n"
     ]
    }
   ],
   "source": [
    "import pandas as pd\n",
    "from sklearn.preprocessing import RobustScaler\n",
    "from matplotlib import pyplot as plt\n",
    "\n",
    "from config import Config\n",
    "\n",
    "cfg = Config()"
   ]
  },
  {
   "cell_type": "code",
   "execution_count": 2,
   "metadata": {},
   "outputs": [],
   "source": [
    "start_date = '2014-01-01'\n",
    "end_date = '2015-12-31'"
   ]
  },
  {
   "cell_type": "code",
   "execution_count": 3,
   "metadata": {},
   "outputs": [],
   "source": [
    "column_list = ['Open', 'High', 'Low', 'Close', 'Volume']\n",
    "def replace_with_scaled(stock_df):\n",
    "    robustScaler = RobustScaler()\n",
    "    robustScaler.fit(stock_df[column_list])\n",
    "    scaled_data = robustScaler.transform(stock_df[column_list])\n",
    "    \n",
    "    stock_df['Open'] = scaled_data[:, 0]\n",
    "    stock_df['High'] = scaled_data[:, 1]\n",
    "    stock_df['Low'] = scaled_data[:, 2]\n",
    "    stock_df['Close'] = scaled_data[:, 3]\n",
    "    stock_df['Volume'] = scaled_data[:, 4]\n",
    "    \n",
    "    return stock_df"
   ]
  },
  {
   "cell_type": "code",
   "execution_count": 5,
   "metadata": {},
   "outputs": [],
   "source": [
    "for symbol in cfg.SYMBOL_LIST:\n",
    "    stock_df = pd.read_csv(f'{cfg.RAW_PATH}/{symbol}.csv')\n",
    "\n",
    "    # start_data ~ end_date에 해당하는 데이터 분리\n",
    "    stock_df = stock_df[(start_date <= stock_df['Date']) & (stock_df['Date'] <= end_date)]\n",
    "\n",
    "    stock_df = stock_df.drop('Adj Close', axis=1)\n",
    "    \n",
    "    stock_df = stock_df.reset_index()\n",
    "    \n",
    "    stock_df = replace_with_scaled(stock_df)\n",
    "    \n",
    "    stock_df.to_feather(f'{cfg.SCALED_PATH}/{symbol}.ftr')"
   ]
  },
  {
   "cell_type": "code",
   "execution_count": 11,
   "metadata": {},
   "outputs": [
    {
     "data": {
      "text/html": [
       "<div>\n",
       "<style scoped>\n",
       "    .dataframe tbody tr th:only-of-type {\n",
       "        vertical-align: middle;\n",
       "    }\n",
       "\n",
       "    .dataframe tbody tr th {\n",
       "        vertical-align: top;\n",
       "    }\n",
       "\n",
       "    .dataframe thead th {\n",
       "        text-align: right;\n",
       "    }\n",
       "</style>\n",
       "<table border=\"1\" class=\"dataframe\">\n",
       "  <thead>\n",
       "    <tr style=\"text-align: right;\">\n",
       "      <th></th>\n",
       "      <th>Date</th>\n",
       "      <th>Open</th>\n",
       "      <th>High</th>\n",
       "      <th>Low</th>\n",
       "      <th>Close</th>\n",
       "      <th>Volume</th>\n",
       "    </tr>\n",
       "  </thead>\n",
       "  <tbody>\n",
       "    <tr>\n",
       "      <th>0</th>\n",
       "      <td>2014-01-02</td>\n",
       "      <td>-1.152534</td>\n",
       "      <td>-1.204614</td>\n",
       "      <td>-1.143621</td>\n",
       "      <td>-1.178619</td>\n",
       "      <td>0.261265</td>\n",
       "    </tr>\n",
       "    <tr>\n",
       "      <th>1</th>\n",
       "      <td>2014-01-03</td>\n",
       "      <td>-1.167568</td>\n",
       "      <td>-1.222420</td>\n",
       "      <td>-1.206865</td>\n",
       "      <td>-1.244704</td>\n",
       "      <td>1.701757</td>\n",
       "    </tr>\n",
       "    <tr>\n",
       "      <th>2</th>\n",
       "      <td>2014-01-06</td>\n",
       "      <td>-1.249727</td>\n",
       "      <td>-1.259314</td>\n",
       "      <td>-1.244134</td>\n",
       "      <td>-1.228659</td>\n",
       "      <td>1.885656</td>\n",
       "    </tr>\n",
       "    <tr>\n",
       "      <th>3</th>\n",
       "      <td>2014-01-07</td>\n",
       "      <td>-1.213099</td>\n",
       "      <td>-1.263805</td>\n",
       "      <td>-1.220561</td>\n",
       "      <td>-1.249816</td>\n",
       "      <td>1.014679</td>\n",
       "    </tr>\n",
       "    <tr>\n",
       "      <th>4</th>\n",
       "      <td>2014-01-08</td>\n",
       "      <td>-1.242476</td>\n",
       "      <td>-1.265944</td>\n",
       "      <td>-1.216359</td>\n",
       "      <td>-1.231215</td>\n",
       "      <td>0.478958</td>\n",
       "    </tr>\n",
       "    <tr>\n",
       "      <th>...</th>\n",
       "      <td>...</td>\n",
       "      <td>...</td>\n",
       "      <td>...</td>\n",
       "      <td>...</td>\n",
       "      <td>...</td>\n",
       "      <td>...</td>\n",
       "    </tr>\n",
       "    <tr>\n",
       "      <th>499</th>\n",
       "      <td>2015-12-24</td>\n",
       "      <td>-0.047210</td>\n",
       "      <td>-0.103303</td>\n",
       "      <td>-0.032468</td>\n",
       "      <td>-0.074053</td>\n",
       "      <td>-1.385741</td>\n",
       "    </tr>\n",
       "    <tr>\n",
       "      <th>500</th>\n",
       "      <td>2015-12-28</td>\n",
       "      <td>-0.099832</td>\n",
       "      <td>-0.152334</td>\n",
       "      <td>-0.100076</td>\n",
       "      <td>-0.120122</td>\n",
       "      <td>-0.906117</td>\n",
       "    </tr>\n",
       "    <tr>\n",
       "      <th>501</th>\n",
       "      <td>2015-12-29</td>\n",
       "      <td>-0.123344</td>\n",
       "      <td>-0.087209</td>\n",
       "      <td>-0.074102</td>\n",
       "      <td>-0.047021</td>\n",
       "      <td>-0.751754</td>\n",
       "    </tr>\n",
       "    <tr>\n",
       "      <th>502</th>\n",
       "      <td>2015-12-30</td>\n",
       "      <td>-0.062885</td>\n",
       "      <td>-0.114532</td>\n",
       "      <td>-0.061879</td>\n",
       "      <td>-0.101085</td>\n",
       "      <td>-0.960544</td>\n",
       "    </tr>\n",
       "    <tr>\n",
       "      <th>503</th>\n",
       "      <td>2015-12-31</td>\n",
       "      <td>-0.121478</td>\n",
       "      <td>-0.177038</td>\n",
       "      <td>-0.152025</td>\n",
       "      <td>-0.179516</td>\n",
       "      <td>-0.397376</td>\n",
       "    </tr>\n",
       "  </tbody>\n",
       "</table>\n",
       "<p>504 rows × 6 columns</p>\n",
       "</div>"
      ],
      "text/plain": [
       "           Date      Open      High       Low     Close    Volume\n",
       "0    2014-01-02 -1.152534 -1.204614 -1.143621 -1.178619  0.261265\n",
       "1    2014-01-03 -1.167568 -1.222420 -1.206865 -1.244704  1.701757\n",
       "2    2014-01-06 -1.249727 -1.259314 -1.244134 -1.228659  1.885656\n",
       "3    2014-01-07 -1.213099 -1.263805 -1.220561 -1.249816  1.014679\n",
       "4    2014-01-08 -1.242476 -1.265944 -1.216359 -1.231215  0.478958\n",
       "..          ...       ...       ...       ...       ...       ...\n",
       "499  2015-12-24 -0.047210 -0.103303 -0.032468 -0.074053 -1.385741\n",
       "500  2015-12-28 -0.099832 -0.152334 -0.100076 -0.120122 -0.906117\n",
       "501  2015-12-29 -0.123344 -0.087209 -0.074102 -0.047021 -0.751754\n",
       "502  2015-12-30 -0.062885 -0.114532 -0.061879 -0.101085 -0.960544\n",
       "503  2015-12-31 -0.121478 -0.177038 -0.152025 -0.179516 -0.397376\n",
       "\n",
       "[504 rows x 6 columns]"
      ]
     },
     "execution_count": 11,
     "metadata": {},
     "output_type": "execute_result"
    }
   ],
   "source": [
    "column_list = ['Date', 'Open', 'High', 'Low', 'Close', 'Volume']\n",
    "tmp = pd.read_feather(f'{cfg.SCALED_PATH}/AAPL.ftr', columns=column_list, use_threads=True)\n",
    "tmp"
   ]
  },
  {
   "cell_type": "code",
   "execution_count": 12,
   "metadata": {},
   "outputs": [
    {
     "data": {
      "text/plain": [
       "[<matplotlib.lines.Line2D at 0x7fcdd879b460>]"
      ]
     },
     "execution_count": 12,
     "metadata": {},
     "output_type": "execute_result"
    },
    {
     "data": {
      "image/png": "[encoded data removed]",
      "text/plain": [
       "<Figure size 432x288 with 1 Axes>"
      ]
     },
     "metadata": {
      "needs_background": "light"
     },
     "output_type": "display_data"
    }
   ],
   "source": [
    "plt.plot(tmp['Close'])"
   ]
  }
 ],
 "metadata": {
  "kernelspec": {
   "display_name": "Python 3",
   "language": "python",
   "name": "python3"
  },
  "language_info": {
   "codemirror_mode": {
    "name": "ipython",
    "version": 3
   },
   "file_extension": ".py",
   "mimetype": "text/x-python",
   "name": "python",
   "nbconvert_exporter": "python",
   "pygments_lexer": "ipython3",
   "version": "3.8.5"
  }
 },
 "nbformat": 4,
 "nbformat_minor": 4
}
